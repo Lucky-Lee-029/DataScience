{
 "cells": [
  {
   "cell_type": "markdown",
   "id": "4102e094-e901-4a14-8dc3-2f39778d4ce7",
   "metadata": {},
   "source": [
    "# Data Science Tools and Ecosystem"
   ]
  },
  {
   "cell_type": "markdown",
   "id": "726d32fc-84c2-43a6-8479-98070a37a58e",
   "metadata": {},
   "source": [
    "In this notebook, Data Science Tools and Ecosystem are summarized.\n"
   ]
  },
  {
   "cell_type": "markdown",
   "id": "0c768896-c9e7-4998-a787-b9cc73e414b3",
   "metadata": {},
   "source": [
    "**Objectives:**\n",
    "- Introduce Jupyter Notebook\n",
    "- Introduce some common syntax in Jupyter Notebook\n",
    "- Show how to work with markdown\n",
    "- Show how to write and run code in a cell\n",
    "- Summary knowledge of syntax"
   ]
  },
  {
   "cell_type": "markdown",
   "id": "a58b60fc-9917-4a00-b90b-3613b40b05f7",
   "metadata": {},
   "source": [
    "Some of the popular languages that Data Scientists use are:\n",
    "1. Python\n",
    "2. Java\n",
    "3. C++"
   ]
  },
  {
   "cell_type": "markdown",
   "id": "411ae9c8-3343-48c1-b9b9-264d011911b9",
   "metadata": {},
   "source": [
    "Some of the commonly used libraries used by Data Scientists include:\n",
    "1. tidyverse\n",
    "2. randomForest\n",
    "3. caret"
   ]
  },
  {
   "cell_type": "markdown",
   "id": "1f62da09-28a5-4d60-9708-1129f8606dc0",
   "metadata": {
    "tags": []
   },
   "source": [
    "| Data Science Tools |\n",
    "| ------------------ |\n",
    "| RStudio |\n",
    "| Visual Studio Code |\n",
    "| Jupyter Notebook |\n",
    "| Docker |"
   ]
  },
  {
   "cell_type": "markdown",
   "id": "e600086f-a819-458d-891d-b8953013feec",
   "metadata": {},
   "source": [
    "### Below are a few examples of evaluating arithmetic expressions in Python.\n"
   ]
  },
  {
   "cell_type": "code",
   "execution_count": 3,
   "id": "db91f9ea-d583-4e30-b7ee-d631fbd9bd0f",
   "metadata": {
    "tags": []
   },
   "outputs": [
    {
     "data": {
      "text/plain": [
       "17"
      ]
     },
     "execution_count": 3,
     "metadata": {},
     "output_type": "execute_result"
    }
   ],
   "source": [
    "# This a simple arithmetic expression to mutiply then add integers\n",
    "(3*4)+5"
   ]
  },
  {
   "cell_type": "code",
   "execution_count": 5,
   "id": "49b88dd6-8cf6-4eb4-99c5-976a9cce9357",
   "metadata": {
    "tags": []
   },
   "outputs": [
    {
     "data": {
      "text/plain": [
       "3.3333333333333335"
      ]
     },
     "execution_count": 5,
     "metadata": {},
     "output_type": "execute_result"
    }
   ],
   "source": [
    "# This will convert 200 minutes to hours by diving by 60\n",
    "200/60"
   ]
  },
  {
   "cell_type": "markdown",
   "id": "e609f9e0-7f8b-47b9-a727-5bcfd23e8fe0",
   "metadata": {},
   "source": [
    "## Author\n"
   ]
  },
  {
   "cell_type": "code",
   "execution_count": null,
   "id": "9ca6fd58-68cc-4f93-afea-8e8475d0ee65",
   "metadata": {},
   "outputs": [],
   "source": []
  }
 ],
 "metadata": {
  "kernelspec": {
   "display_name": "Python",
   "language": "python",
   "name": "conda-env-python-py"
  },
  "language_info": {
   "codemirror_mode": {
    "name": "ipython",
    "version": 3
   },
   "file_extension": ".py",
   "mimetype": "text/x-python",
   "name": "python",
   "nbconvert_exporter": "python",
   "pygments_lexer": "ipython3",
   "version": "3.7.12"
  }
 },
 "nbformat": 4,
 "nbformat_minor": 5
}
